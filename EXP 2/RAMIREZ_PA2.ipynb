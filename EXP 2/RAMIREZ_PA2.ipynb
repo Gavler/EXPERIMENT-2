{
 "cells": [
  {
   "cell_type": "markdown",
   "id": "98f1effd-f7cd-406b-94fc-2b59b120404f",
   "metadata": {},
   "source": [
    "Normalization: y"
   ]
  },
  {
   "cell_type": "code",
   "execution_count": 2,
   "id": "34f1dea5-0eb6-4f71-93d0-1e08064123d6",
   "metadata": {},
   "outputs": [
    {
     "name": "stdout",
     "output_type": "stream",
     "text": [
      "Variables: \n",
      " [[0.49082345 0.08395412 0.56135803 0.45461297 0.84788237]\n",
      " [0.9866897  0.68275554 0.76270311 0.48744823 0.12482808]\n",
      " [0.32756722 0.18059391 0.56359363 0.87125776 0.24311224]\n",
      " [0.46448382 0.31854575 0.33693482 0.58510527 0.17408994]\n",
      " [0.75764803 0.86627231 0.91718655 0.37423808 0.30691665]]\n",
      "\n",
      "Normalized: \n",
      " [[-0.07627767 -1.62798224  0.19272473 -0.21437597  1.28546165]\n",
      " [ 1.81484038  0.65570649  0.96060785 -0.08914997 -1.47209851]\n",
      " [-0.6988988  -1.25942068  0.2012508   1.37460993 -1.02099035]\n",
      " [-0.17673085 -0.73330458 -0.66317297  0.28329117 -1.2842253 ]\n",
      " [ 0.94132895  1.3555966   1.54977162 -0.52090705 -0.77765523]]\n"
     ]
    }
   ],
   "source": [
    "import numpy as np\n",
    "\n",
    "#Create a random 5 x 5 ndarray and store it to variable X.\n",
    "X = np.random.rand(5,5)\n",
    "\n",
    "mean = X.mean()\n",
    "std = X.std()\n",
    "\n",
    "#Normalize X.\n",
    "normalized = (X - mean) /std\n",
    "\n",
    "#Save your normalized ndarray as X_normalized.npy.\n",
    "np.save('X_normalized.npy', normalized)\n",
    "\n",
    "print(\"Variables: \\n\", X)\n",
    "print(\"\\nNormalized: \\n\", np.load('X_normalized.npy'))"
   ]
  },
  {
   "cell_type": "markdown",
   "id": "e27e03cb-13af-408f-9be0-b04b29e606fa",
   "metadata": {},
   "source": [
    "  "
   ]
  },
  {
   "cell_type": "markdown",
   "id": "8a5f91db-fb21-43cd-b38d-16bdf4289187",
   "metadata": {},
   "source": [
    "Divisible by 3 Problem:"
   ]
  },
  {
   "cell_type": "code",
   "execution_count": 64,
   "id": "6782b2ce-8d04-4798-9c9d-5987ca5a7534",
   "metadata": {},
   "outputs": [
    {
     "name": "stdout",
     "output_type": "stream",
     "text": [
      "10x10 array: \n",
      " [[    1     4     9    16    25    36    49    64    81   100]\n",
      " [  121   144   169   196   225   256   289   324   361   400]\n",
      " [  441   484   529   576   625   676   729   784   841   900]\n",
      " [  961  1024  1089  1156  1225  1296  1369  1444  1521  1600]\n",
      " [ 1681  1764  1849  1936  2025  2116  2209  2304  2401  2500]\n",
      " [ 2601  2704  2809  2916  3025  3136  3249  3364  3481  3600]\n",
      " [ 3721  3844  3969  4096  4225  4356  4489  4624  4761  4900]\n",
      " [ 5041  5184  5329  5476  5625  5776  5929  6084  6241  6400]\n",
      " [ 6561  6724  6889  7056  7225  7396  7569  7744  7921  8100]\n",
      " [ 8281  8464  8649  8836  9025  9216  9409  9604  9801 10000]]\n",
      "\n",
      "Numbers Divisible by 3: \n",
      " [[   9   36   81  144  225  324  441  576  729  900 1089]\n",
      " [1296 1521 1764 2025 2304 2601 2916 3249 3600 3969 4356]\n",
      " [4761 5184 5625 6084 6561 7056 7569 8100 8649 9216 9801]]\n"
     ]
    }
   ],
   "source": [
    "import numpy as np\n",
    "\n",
    "# squares of the first 100 positive integers.\n",
    "n = np.arange(1, 101)** 2\n",
    "\n",
    "\n",
    "#Create the following 10 x 10 ndarray.\n",
    "a = n.reshape(10, 10)\n",
    "#All the elements that are divisible by 3.\n",
    "divisible_by_3 = n[n % 3 == 0]\n",
    "\n",
    "b = divisible_by_3.reshape(3,-1)\n",
    "\n",
    "#Save the result as div_by_3.npy.\n",
    "np.save('div_by_3.npy', b)\n",
    "\n",
    "print(\"10x10 array: \\n\", a) \n",
    "print(\"\\nNumbers Divisible by 3: \\n\", np.load('div_by_3.npy'))"
   ]
  },
  {
   "cell_type": "code",
   "execution_count": null,
   "id": "b5c23a82-9e38-470b-94fb-b934aa6f091f",
   "metadata": {},
   "outputs": [],
   "source": []
  }
 ],
 "metadata": {
  "kernelspec": {
   "display_name": "Python 3 (ipykernel)",
   "language": "python",
   "name": "python3"
  },
  "language_info": {
   "codemirror_mode": {
    "name": "ipython",
    "version": 3
   },
   "file_extension": ".py",
   "mimetype": "text/x-python",
   "name": "python",
   "nbconvert_exporter": "python",
   "pygments_lexer": "ipython3",
   "version": "3.12.4"
  }
 },
 "nbformat": 4,
 "nbformat_minor": 5
}

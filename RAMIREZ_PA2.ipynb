{
 "cells": [
  {
   "cell_type": "markdown",
   "id": "98f1effd-f7cd-406b-94fc-2b59b120404f",
   "metadata": {},
   "source": [
    "Normalization: y"
   ]
  },
  {
   "cell_type": "code",
   "execution_count": 14,
   "id": "34f1dea5-0eb6-4f71-93d0-1e08064123d6",
   "metadata": {},
   "outputs": [
    {
     "name": "stdout",
     "output_type": "stream",
     "text": [
      "Variables: \n",
      " [[0.51195736 0.03349277 0.18071416 0.73948601 0.32503554]\n",
      " [0.37425041 0.16750528 0.60702785 0.5979198  0.53532739]\n",
      " [0.34860584 0.81808228 0.11202814 0.0876128  0.37118605]\n",
      " [0.27747321 0.68342395 0.7372545  0.96197992 0.97168009]\n",
      " [0.86775491 0.47933346 0.78602202 0.59767479 0.35490207]]\n",
      "\n",
      "Normalized: \n",
      " [[ 0.03997572 -1.72318163 -1.18066608  0.87842612 -0.64883717]\n",
      " [-0.4674788  -1.22934122  0.39031352  0.35675009  0.12609503]\n",
      " [-0.56197985  1.16805587 -1.43377627 -1.52374757 -0.47877105]\n",
      " [-0.82410589  0.6718356   0.87020293  1.69832328  1.73406872]\n",
      " [ 1.35110112 -0.08024438  1.04991279  0.3558472  -0.53877806]]\n"
     ]
    }
   ],
   "source": [
    "import numpy as np\n",
    "\n",
    "#Create a random 5 x 5 ndarray and store it to variable X.\n",
    "X = np.random.rand(5,5)\n",
    "\n",
    "mean = X.mean()\n",
    "std = X.std()\n",
    "\n",
    "#Normalize X.\n",
    "normalized = (X - mean) /std\n",
    "\n",
    "#Save your normalized ndarray as X_normalized.npy.\n",
    "np.save('X_normalized.npy', normalized)\n",
    "\n",
    "print(\"Variables: \\n\", X)\n",
    "print(\"\\nNormalized: \\n\", normalized)"
   ]
  },
  {
   "cell_type": "markdown",
   "id": "e27e03cb-13af-408f-9be0-b04b29e606fa",
   "metadata": {},
   "source": [
    " "
   ]
  },
  {
   "cell_type": "code",
   "execution_count": 12,
   "id": "903e1d0b-b924-41c5-99ca-0bf8a136a633",
   "metadata": {},
   "outputs": [
    {
     "name": "stdout",
     "output_type": "stream",
     "text": [
      "Variables: \n",
      " [[0.77997845 0.57631941 0.90950181 0.41996053 0.46926526]\n",
      " [0.90612893 0.63167084 0.74439752 0.24894489 0.93134515]\n",
      " [0.06029462 0.24623076 0.79209061 0.77872341 0.66561255]\n",
      " [0.68205227 0.59397946 0.72165453 0.66949743 0.0924266 ]\n",
      " [0.33895407 0.75510945 0.40966394 0.62681678 0.41922148]]\n",
      "\n",
      "Normalized: \n",
      " [[0.82622512 0.59241659 0.97492299 0.4129105  0.46951425]\n",
      " [0.9710508  0.6559622  0.78537683 0.21657786 1.        ]\n",
      " [0.         0.21346194 0.84013036 0.82478429 0.6949286 ]\n",
      " [0.71380204 0.61269102 0.75926699 0.6993886  0.03688877]\n",
      " [0.31991191 0.79767454 0.40108961 0.65038955 0.41206204]]\n"
     ]
    }
   ],
   "source": [
    "import numpy as np\n",
    "\n",
    "# Step 1: Create a random 5x5 ndarray\n",
    "X = np.random.rand(5, 5)\n",
    "\n",
    "# Step 2: Normalize X\n",
    "X_normalized = (X - np.min(X)) / (np.max(X) - np.min(X))\n",
    "\n",
    "# Step 3: Save the normalized ndarray\n",
    "np.save('X_normalized.npy', X_normalized)\n",
    "\n",
    "print(\"Variables: \\n\", X)\n",
    "print(\"\\nNormalized: \\n\", X_normalized)"
   ]
  },
  {
   "cell_type": "markdown",
   "id": "8a5f91db-fb21-43cd-b38d-16bdf4289187",
   "metadata": {},
   "source": [
    "Divisible by 3 Problem:"
   ]
  },
  {
   "cell_type": "code",
   "execution_count": 23,
   "id": "6782b2ce-8d04-4798-9c9d-5987ca5a7534",
   "metadata": {},
   "outputs": [
    {
     "name": "stdout",
     "output_type": "stream",
     "text": [
      "10x10 array: \n",
      " [[    1     4     9    16    25    36    49    64    81   100]\n",
      " [  121   144   169   196   225   256   289   324   361   400]\n",
      " [  441   484   529   576   625   676   729   784   841   900]\n",
      " [  961  1024  1089  1156  1225  1296  1369  1444  1521  1600]\n",
      " [ 1681  1764  1849  1936  2025  2116  2209  2304  2401  2500]\n",
      " [ 2601  2704  2809  2916  3025  3136  3249  3364  3481  3600]\n",
      " [ 3721  3844  3969  4096  4225  4356  4489  4624  4761  4900]\n",
      " [ 5041  5184  5329  5476  5625  5776  5929  6084  6241  6400]\n",
      " [ 6561  6724  6889  7056  7225  7396  7569  7744  7921  8100]\n",
      " [ 8281  8464  8649  8836  9025  9216  9409  9604  9801 10000]]\n",
      "\n",
      "Numbers Divisible by 3: \n",
      " [   9   36   81  144  225  324  441  576  729  900 1089 1296 1521 1764\n",
      " 2025 2304 2601 2916 3249 3600 3969 4356 4761 5184 5625 6084 6561 7056\n",
      " 7569 8100 8649 9216 9801]\n"
     ]
    }
   ],
   "source": [
    "import numpy as np\n",
    "\n",
    "#Create the following 10 x 10 ndarray.\n",
    "a = s.reshape(10, 10)\n",
    "\n",
    "# squares of the first 100 positive integers\n",
    "n = np.arange(1, 101)\n",
    "s = n ** 2\n",
    "\n",
    "#All the elements that are divisible by 3.\n",
    "divisible_by_3 = s[s % 3 == 0]\n",
    "\n",
    "#Save the result as div_by_3.npy\n",
    "np.save('div_by_3.npy', divisible_by_3)\n",
    "\n",
    "print(\"10x10 array: \\n\", a) \n",
    "print(\"\\nNumbers Divisible by 3: \\n\", np.load('div_by_3.npy'))"
   ]
  },
  {
   "cell_type": "code",
   "execution_count": null,
   "id": "f28ff473-ad8d-4c44-9aea-7796c9735b33",
   "metadata": {},
   "outputs": [],
   "source": []
  }
 ],
 "metadata": {
  "kernelspec": {
   "display_name": "Python 3 (ipykernel)",
   "language": "python",
   "name": "python3"
  },
  "language_info": {
   "codemirror_mode": {
    "name": "ipython",
    "version": 3
   },
   "file_extension": ".py",
   "mimetype": "text/x-python",
   "name": "python",
   "nbconvert_exporter": "python",
   "pygments_lexer": "ipython3",
   "version": "3.12.4"
  }
 },
 "nbformat": 4,
 "nbformat_minor": 5
}

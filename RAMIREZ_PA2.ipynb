{
 "cells": [
  {
   "cell_type": "markdown",
   "id": "98f1effd-f7cd-406b-94fc-2b59b120404f",
   "metadata": {},
   "source": [
    "Normalization: y"
   ]
  },
  {
   "cell_type": "code",
   "execution_count": 22,
   "id": "34f1dea5-0eb6-4f71-93d0-1e08064123d6",
   "metadata": {},
   "outputs": [
    {
     "name": "stdout",
     "output_type": "stream",
     "text": [
      "Variables: \n",
      " [[0.38320141 0.78434572 0.59212546 0.96534703 0.800955  ]\n",
      " [0.51033724 0.48351184 0.76107414 0.41013179 0.20691759]\n",
      " [0.76115595 0.29960103 0.81853596 0.8391078  0.5963912 ]\n",
      " [0.73388616 0.81499738 0.74551187 0.76282574 0.18518   ]\n",
      " [0.59225675 0.03675963 0.06485202 0.21719796 0.07226402]]\n",
      "\n",
      "Normalized: \n",
      " [[-0.5555759   0.88844275  0.19649814  1.54000197  0.94823198]\n",
      " [-0.09791888 -0.19448355  0.80467091 -0.4586333  -1.19015332]\n",
      " [ 0.80496543 -0.85651623  1.01151901  1.08557246  0.21185374]\n",
      " [ 0.70680102  0.99878103  0.74865067  0.81097623 -1.26840319]\n",
      " [ 0.19697078 -1.80267921 -1.70155366 -1.15314656 -1.67487232]]\n"
     ]
    }
   ],
   "source": [
    "import numpy as np\n",
    "\n",
    "#Create a random 5 x 5 ndarray and store it to variable X.\n",
    "X = np.random.rand(5,5)\n",
    "\n",
    "mean = X.mean()\n",
    "std = X.std()\n",
    "\n",
    "#Normalize X.\n",
    "normalized = (X - mean) /std\n",
    "\n",
    "#Save your normalized ndarray as X_normalized.npy.\n",
    "np.save('X_normalized.npy', normalized)\n",
    "\n",
    "print(\"Variables: \\n\", X)\n",
    "print(\"\\nNormalized: \\n\", np.load('X_normalized.npy'))"
   ]
  },
  {
   "cell_type": "markdown",
   "id": "e27e03cb-13af-408f-9be0-b04b29e606fa",
   "metadata": {},
   "source": [
    "  "
   ]
  },
  {
   "cell_type": "markdown",
   "id": "8a5f91db-fb21-43cd-b38d-16bdf4289187",
   "metadata": {},
   "source": [
    "Divisible by 3 Problem:"
   ]
  },
  {
   "cell_type": "code",
   "execution_count": 26,
   "id": "6782b2ce-8d04-4798-9c9d-5987ca5a7534",
   "metadata": {},
   "outputs": [
    {
     "name": "stdout",
     "output_type": "stream",
     "text": [
      "10x10 array: \n",
      " [[    1     4     9    16    25    36    49    64    81   100]\n",
      " [  121   144   169   196   225   256   289   324   361   400]\n",
      " [  441   484   529   576   625   676   729   784   841   900]\n",
      " [  961  1024  1089  1156  1225  1296  1369  1444  1521  1600]\n",
      " [ 1681  1764  1849  1936  2025  2116  2209  2304  2401  2500]\n",
      " [ 2601  2704  2809  2916  3025  3136  3249  3364  3481  3600]\n",
      " [ 3721  3844  3969  4096  4225  4356  4489  4624  4761  4900]\n",
      " [ 5041  5184  5329  5476  5625  5776  5929  6084  6241  6400]\n",
      " [ 6561  6724  6889  7056  7225  7396  7569  7744  7921  8100]\n",
      " [ 8281  8464  8649  8836  9025  9216  9409  9604  9801 10000]]\n",
      "\n",
      "Numbers Divisible by 3: \n",
      " [   9   36   81  144  225  324  441  576  729  900 1089 1296 1521 1764\n",
      " 2025 2304 2601 2916 3249 3600 3969 4356 4761 5184 5625 6084 6561 7056\n",
      " 7569 8100 8649 9216 9801]\n"
     ]
    }
   ],
   "source": [
    "import numpy as np\n",
    "\n",
    "# squares of the first 100 positive integers.\n",
    "n = np.arange(1, 101)\n",
    "s = n ** 2\n",
    "\n",
    "#Create the following 10 x 10 ndarray.\n",
    "a = s.reshape(10, 10)\n",
    "#All the elements that are divisible by 3.\n",
    "divisible_by_3 = s[s % 3 == 0]\n",
    "\n",
    "#Save the result as div_by_3.npy.\n",
    "np.save('div_by_3.npy', divisible_by_3)\n",
    "\n",
    "print(\"10x10 array: \\n\", a) \n",
    "print(\"\\nNumbers Divisible by 3: \\n\", np.load('div_by_3.npy'))"
   ]
  },
  {
   "cell_type": "code",
   "execution_count": null,
   "id": "b5c23a82-9e38-470b-94fb-b934aa6f091f",
   "metadata": {},
   "outputs": [],
   "source": []
  }
 ],
 "metadata": {
  "kernelspec": {
   "display_name": "Python 3 (ipykernel)",
   "language": "python",
   "name": "python3"
  },
  "language_info": {
   "codemirror_mode": {
    "name": "ipython",
    "version": 3
   },
   "file_extension": ".py",
   "mimetype": "text/x-python",
   "name": "python",
   "nbconvert_exporter": "python",
   "pygments_lexer": "ipython3",
   "version": "3.12.4"
  }
 },
 "nbformat": 4,
 "nbformat_minor": 5
}
